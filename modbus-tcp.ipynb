{
 "cells": [
  {
   "cell_type": "code",
   "execution_count": 27,
   "id": "894c0883-f7f5-4969-a692-ae20f2f2afb7",
   "metadata": {},
   "outputs": [
    {
     "name": "stdout",
     "output_type": "stream",
     "text": [
      "Defaulting to user installation because normal site-packages is not writeableNote: you may need to restart the kernel to use updated packages.\n",
      "\n",
      "Requirement already satisfied: pymodbus in c:\\users\\jp\\appdata\\roaming\\python\\python312\\site-packages (3.8.6)\n"
     ]
    }
   ],
   "source": [
    "pip install pymodbus"
   ]
  },
  {
   "cell_type": "code",
   "execution_count": 33,
   "id": "9cfb35ea-c154-4f09-864a-e3e0fa3bd296",
   "metadata": {},
   "outputs": [],
   "source": [
    "from pymodbus.client import ModbusTcpClient\n",
    "import struct\n",
    "import time"
   ]
  },
  {
   "cell_type": "code",
   "execution_count": 39,
   "id": "230d908a-d442-4b5d-a833-87282cee37b7",
   "metadata": {},
   "outputs": [],
   "source": [
    "# Configuração do CR310 (Modbus TCP Server)\n",
    "HOST = \"localhost\"  # IP do CR310 na rede\n",
    "PORT = 502              # Porta padrão Modbus TCP\n",
    "SLAVE_ID = 1            # ID do escravo Modbus\n",
    "ADDRESSES = [0, 2, 4, 6, 8, 10, 12, 14, 16, 18, 20, 22]   # Endereços dos registradores iniciais para cada variável\n",
    "SENSOR_NAMES = [\"Temperatura Interna\", \"Estado da Bateria\", \"Temperatura do Ar\", \"Umidade do Ar\", \"Temperatura do Módulo\", \"Velocidade do Vento\", \"Radiação Global\", \"Radiação Difusa\", \"Radiação Difusa Corrigida\", \"Radiação Difusa Calculada\", \"Angulo Solar Azimute\", \"Elevação Solar\"]\n",
    "INTERVAL = 1            # Tempo entre leituras (segundos)\n",
    "\n",
    "# Criando o cliente Modbus\n",
    "client = ModbusTcpClient(HOST, port=PORT)"
   ]
  },
  {
   "cell_type": "code",
   "execution_count": 41,
   "id": "873975f5-a87a-4661-b80e-6972a4123003",
   "metadata": {},
   "outputs": [
    {
     "name": "stderr",
     "output_type": "stream",
     "text": [
      "Connection to (localhost, 502) failed: [WinError 10061] Nenhuma conexão pôde ser feita porque a máquina de destino as recusou ativamente\n"
     ]
    },
    {
     "name": "stdout",
     "output_type": "stream",
     "text": [
      "Falha ao conectar ao CR310\n"
     ]
    }
   ],
   "source": [
    "try:\n",
    "    if client.connect():\n",
    "        print(\"Conectado ao CR310 via Modbus TCP\")\n",
    "\n",
    "        while True:\n",
    "            for i, addr in enumerate(ADDRESSES):\n",
    "                response = client.read_holding_registers(address=addr, count=2, slave=SLAVE_ID)\n",
    "\n",
    "                if response.isError():\n",
    "                    print(f\"Erro ao ler {SENSOR_NAMES[i]} (endereço {addr}):\", response)\n",
    "                else:\n",
    "                    # Convertendo os registros lidos em bytes (Big-Endian)\n",
    "                    registers = response.registers\n",
    "                    raw_bytes = struct.pack('>2H', *registers)\n",
    "\n",
    "                    # Convertendo para float de 32 bits (IEEE 754, Float Trocado)\n",
    "                    value = struct.unpack('<f', raw_bytes)[0]  # \"<f\" -> Little Endian (troca de bytes)\n",
    "                    print(f\"{SENSOR_NAMES[i]}: {value}\")\n",
    "\n",
    "            time.sleep(INTERVAL)  # Aguarda antes da próxima leitura\n",
    "    else:\n",
    "        print(\"Falha ao conectar ao CR310\")\n",
    "except KeyboardInterrupt:\n",
    "    print(\"\\nEncerrando...\")\n",
    "finally:\n",
    "    client.close()"
   ]
  },
  {
   "cell_type": "code",
   "execution_count": null,
   "id": "36b6386f-0984-4621-8a2b-1c38c00415d5",
   "metadata": {},
   "outputs": [],
   "source": []
  },
  {
   "cell_type": "code",
   "execution_count": null,
   "id": "253fffc7-5f25-4a0f-a51a-593aa3e09190",
   "metadata": {},
   "outputs": [],
   "source": []
  }
 ],
 "metadata": {
  "kernelspec": {
   "display_name": "Python 3 (ipykernel)",
   "language": "python",
   "name": "python3"
  },
  "language_info": {
   "codemirror_mode": {
    "name": "ipython",
    "version": 3
   },
   "file_extension": ".py",
   "mimetype": "text/x-python",
   "name": "python",
   "nbconvert_exporter": "python",
   "pygments_lexer": "ipython3",
   "version": "3.12.1"
  }
 },
 "nbformat": 4,
 "nbformat_minor": 5
}
